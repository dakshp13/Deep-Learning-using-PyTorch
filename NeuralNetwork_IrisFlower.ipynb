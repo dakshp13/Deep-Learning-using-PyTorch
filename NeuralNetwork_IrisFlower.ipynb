{
  "nbformat": 4,
  "nbformat_minor": 0,
  "metadata": {
    "colab": {
      "provenance": [],
      "gpuType": "T4",
      "authorship_tag": "ABX9TyOlunDY5JVLJ2Ydx9aQ5LK3"
    },
    "kernelspec": {
      "name": "python3",
      "display_name": "Python 3"
    },
    "language_info": {
      "name": "python"
    },
    "accelerator": "GPU"
  },
  "cells": [
    {
      "cell_type": "code",
      "execution_count": 156,
      "metadata": {
        "id": "B_o5AmoZncAF"
      },
      "outputs": [],
      "source": [
        "import torch\n",
        "import torch.nn as nn\n",
        "import torch.nn.functional as F\n",
        "import pandas as pd\n",
        "from sklearn.model_selection import train_test_split\n",
        "url = 'https://gist.githubusercontent.com/netj/8836201/raw/6f9306ad21398ea43cba4f7d537619d0e07d5ae3/iris.csv'"
      ]
    },
    {
      "cell_type": "code",
      "source": [
        "class Model(nn.Module):\n",
        "    def __init__(self, inputs =4, hiddenlayer = 10, outputs = 3):\n",
        "        super().__init__()\n",
        "        self.layer1 = nn.Linear(inputs, hiddenlayer)\n",
        "        self.output = nn.Linear(hiddenlayer, outputs)\n",
        "\n",
        "    def forward(self, x):\n",
        "        x = F.relu(self.layer1(x))\n",
        "        x = self.output(x)\n",
        "        return x\n",
        "\n",
        "\n",
        "torch.manual_seed(1)\n",
        "model = Model()\n",
        "\n",
        "df = pd.read_csv(url)\n",
        "\n",
        "df['variety'] = df['variety'].replace(['Setosa', 'Versicolor', 'Virginica'], [0, 1, 2])\n",
        "\n",
        "drop = df.drop('variety', axis=1)\n",
        "accessor = df['variety']\n",
        "drop = drop.values\n",
        "accessor = accessor.values\n",
        "\n",
        "\n",
        "drop_train, drop_test, accessor_train, accessor_test = train_test_split(drop, accessor, test_size=0.1, random_state=1)\n",
        "\n",
        "drop_train = torch.FloatTensor(drop_train)\n",
        "drop_test = torch.FloatTensor(drop_test)\n",
        "\n",
        "accessor_train = torch.LongTensor(accessor_train)\n",
        "accessor_test = torch.LongTensor(accessor_test)\n",
        "\n",
        "\n",
        "errorMeasure = nn.CrossEntropyLoss()\n",
        "\n",
        "optimizer = torch.optim.Adam(model.parameters(), lr=0.01)\n",
        "\n",
        "epochs = 1000\n",
        "losses = []\n",
        "for i in range(epochs):\n",
        "        i = i+1\n",
        "        y_pred = model.forward(drop_train)\n",
        "        loss = errorMeasure(y_pred, accessor_train)\n",
        "        losses.append(loss)\n",
        "\n",
        "        if i % 100 == 0:\n",
        "            print(f'epoch: {i} loss: {loss}')\n",
        "        optimizer.zero_grad()\n",
        "        loss.backward()\n",
        "        optimizer.step()\n",
        "\n"
      ],
      "metadata": {
        "colab": {
          "base_uri": "https://localhost:8080/"
        },
        "id": "Jq1YvIAOTLqa",
        "outputId": "fbd14206-7475-4ad6-96a6-135483fff875"
      },
      "execution_count": 157,
      "outputs": [
        {
          "output_type": "stream",
          "name": "stderr",
          "text": [
            "<ipython-input-157-551909128c16>:18: FutureWarning: Downcasting behavior in `replace` is deprecated and will be removed in a future version. To retain the old behavior, explicitly call `result.infer_objects(copy=False)`. To opt-in to the future behavior, set `pd.set_option('future.no_silent_downcasting', True)`\n",
            "  df['variety'] = df['variety'].replace(['Setosa', 'Versicolor', 'Virginica'], [0, 1, 2])\n"
          ]
        },
        {
          "output_type": "stream",
          "name": "stdout",
          "text": [
            "epoch: 100 loss: 0.16345088183879852\n",
            "epoch: 200 loss: 0.07769127935171127\n",
            "epoch: 300 loss: 0.06301546841859818\n",
            "epoch: 400 loss: 0.057583484798669815\n",
            "epoch: 500 loss: 0.05462666228413582\n",
            "epoch: 600 loss: 0.05254479497671127\n",
            "epoch: 700 loss: 0.05086185038089752\n",
            "epoch: 800 loss: 0.04942608252167702\n",
            "epoch: 900 loss: 0.04819481819868088\n",
            "epoch: 1000 loss: 0.04716175049543381\n"
          ]
        }
      ]
    },
    {
      "cell_type": "code",
      "source": [
        "with torch.no_grad():\n",
        "    y_eval = model.forward(drop_test)\n",
        "    loss = errorMeasure(y_eval, accessor_test)\n",
        "    print(loss)"
      ],
      "metadata": {
        "colab": {
          "base_uri": "https://localhost:8080/"
        },
        "id": "CktNSc3fgFHs",
        "outputId": "39169640-3887-4147-ea76-5e15975a7301"
      },
      "execution_count": 158,
      "outputs": [
        {
          "output_type": "stream",
          "name": "stdout",
          "text": [
            "tensor(0.0019)\n"
          ]
        }
      ]
    },
    {
      "cell_type": "code",
      "source": [
        "correct = 0;\n",
        "\n",
        "with torch.no_grad():\n",
        "\n",
        "   for i, data in enumerate(drop_test):\n",
        "       y_val = model.forward(data)\n",
        "\n",
        "       if accessor_test[i] == 0:\n",
        "           print('Setosa')\n",
        "       elif accessor_test[i] == 1:\n",
        "           print('Versicolor')\n",
        "       else:\n",
        "           print('Virginica')\n",
        "\n",
        "       if y_val.argmax().item() == accessor_test[i]:\n",
        "           correct += 1\n",
        "\n",
        "       print(f'{y_val.argmax().item()}')\n",
        "\n",
        "print(correct)"
      ],
      "metadata": {
        "colab": {
          "base_uri": "https://localhost:8080/"
        },
        "collapsed": true,
        "id": "EQi7qRnQgc4T",
        "outputId": "097f0ac1-61a9-4836-dd16-2295f246d48d"
      },
      "execution_count": 159,
      "outputs": [
        {
          "output_type": "stream",
          "name": "stdout",
          "text": [
            "Setosa\n",
            "0\n",
            "Versicolor\n",
            "1\n",
            "Versicolor\n",
            "1\n",
            "Setosa\n",
            "0\n",
            "Virginica\n",
            "2\n",
            "Versicolor\n",
            "1\n",
            "Virginica\n",
            "2\n",
            "Setosa\n",
            "0\n",
            "Setosa\n",
            "0\n",
            "Virginica\n",
            "2\n",
            "Versicolor\n",
            "1\n",
            "Setosa\n",
            "0\n",
            "Virginica\n",
            "2\n",
            "Versicolor\n",
            "1\n",
            "Versicolor\n",
            "1\n",
            "15\n"
          ]
        }
      ]
    },
    {
      "cell_type": "code",
      "source": [
        "newIris = torch.tensor([5.9, 3.0, 5.2, 1.8])\n",
        "\n",
        "#user_input = input(\"Enter values\")\n",
        "#values = list(map(float, user_input.split(\",\")))\n",
        "#newIris = torch.tensor(values)\n",
        "\n",
        "\n",
        "with torch.no_grad():\n",
        "\n",
        "    if(model(newIris).argmax().item() == 0):\n",
        "        print('This flower is a Setosa')\n",
        "    elif(model(newIris).argmax().item() == 1):\n",
        "        print('This flower is a Versicolor')\n",
        "    else:\n",
        "        print('This flower is a Virginica')"
      ],
      "metadata": {
        "colab": {
          "base_uri": "https://localhost:8080/"
        },
        "id": "m4lzQNbRiVLt",
        "outputId": "e95fc48d-02c7-48e1-94f5-4e8b49e763cd"
      },
      "execution_count": 160,
      "outputs": [
        {
          "output_type": "stream",
          "name": "stdout",
          "text": [
            "This flower is a Virginica\n"
          ]
        }
      ]
    },
    {
      "cell_type": "code",
      "source": [
        "torch.save(model.state_dict(), 'model.pt')\n",
        "\n",
        "newModel = Model()\n",
        "newModel.load_state_dict(torch.load('model.pt'))\n",
        "\n",
        "newModel.eval()"
      ],
      "metadata": {
        "colab": {
          "base_uri": "https://localhost:8080/"
        },
        "id": "adXIAre7kz0q",
        "outputId": "ddf0ca01-895a-4ea7-e8d7-35e2355445a1"
      },
      "execution_count": 161,
      "outputs": [
        {
          "output_type": "stream",
          "name": "stderr",
          "text": [
            "<ipython-input-161-42bb093012f2>:4: FutureWarning: You are using `torch.load` with `weights_only=False` (the current default value), which uses the default pickle module implicitly. It is possible to construct malicious pickle data which will execute arbitrary code during unpickling (See https://github.com/pytorch/pytorch/blob/main/SECURITY.md#untrusted-models for more details). In a future release, the default value for `weights_only` will be flipped to `True`. This limits the functions that could be executed during unpickling. Arbitrary objects will no longer be allowed to be loaded via this mode unless they are explicitly allowlisted by the user via `torch.serialization.add_safe_globals`. We recommend you start setting `weights_only=True` for any use case where you don't have full control of the loaded file. Please open an issue on GitHub for any issues related to this experimental feature.\n",
            "  newModel.load_state_dict(torch.load('model.pt'))\n"
          ]
        },
        {
          "output_type": "execute_result",
          "data": {
            "text/plain": [
              "Model(\n",
              "  (layer1): Linear(in_features=4, out_features=10, bias=True)\n",
              "  (output): Linear(in_features=10, out_features=3, bias=True)\n",
              ")"
            ]
          },
          "metadata": {},
          "execution_count": 161
        }
      ]
    }
  ]
}