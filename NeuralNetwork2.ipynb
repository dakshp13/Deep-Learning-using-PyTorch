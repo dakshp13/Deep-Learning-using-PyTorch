{
  "nbformat": 4,
  "nbformat_minor": 0,
  "metadata": {
    "colab": {
      "provenance": [],
      "gpuType": "T4",
      "authorship_tag": "ABX9TyOvuv/0ol3ttPCYzWWRE3Aw"
    },
    "kernelspec": {
      "name": "python3",
      "display_name": "Python 3"
    },
    "language_info": {
      "name": "python"
    },
    "accelerator": "GPU"
  },
  "cells": [
    {
      "cell_type": "code",
      "execution_count": null,
      "metadata": {
        "colab": {
          "base_uri": "https://localhost:8080/",
          "height": 69
        },
        "id": "k_B4SRgrNC0C",
        "outputId": "56e31be1-3131-48ac-def1-cb0eb6ee5802"
      },
      "outputs": [
        {
          "output_type": "display_data",
          "data": {
            "text/plain": [
              "<IPython.core.display.HTML object>"
            ],
            "text/html": [
              "\n",
              "     <input type=\"file\" id=\"files-17f565e8-a1ae-4b04-bc5c-e6de52043e06\" name=\"files[]\" multiple disabled\n",
              "        style=\"border:none\" />\n",
              "     <output id=\"result-17f565e8-a1ae-4b04-bc5c-e6de52043e06\">\n",
              "      Upload widget is only available when the cell has been executed in the\n",
              "      current browser session. Please rerun this cell to enable.\n",
              "      </output>\n",
              "      <script>// Copyright 2017 Google LLC\n",
              "//\n",
              "// Licensed under the Apache License, Version 2.0 (the \"License\");\n",
              "// you may not use this file except in compliance with the License.\n",
              "// You may obtain a copy of the License at\n",
              "//\n",
              "//      http://www.apache.org/licenses/LICENSE-2.0\n",
              "//\n",
              "// Unless required by applicable law or agreed to in writing, software\n",
              "// distributed under the License is distributed on an \"AS IS\" BASIS,\n",
              "// WITHOUT WARRANTIES OR CONDITIONS OF ANY KIND, either express or implied.\n",
              "// See the License for the specific language governing permissions and\n",
              "// limitations under the License.\n",
              "\n",
              "/**\n",
              " * @fileoverview Helpers for google.colab Python module.\n",
              " */\n",
              "(function(scope) {\n",
              "function span(text, styleAttributes = {}) {\n",
              "  const element = document.createElement('span');\n",
              "  element.textContent = text;\n",
              "  for (const key of Object.keys(styleAttributes)) {\n",
              "    element.style[key] = styleAttributes[key];\n",
              "  }\n",
              "  return element;\n",
              "}\n",
              "\n",
              "// Max number of bytes which will be uploaded at a time.\n",
              "const MAX_PAYLOAD_SIZE = 100 * 1024;\n",
              "\n",
              "function _uploadFiles(inputId, outputId) {\n",
              "  const steps = uploadFilesStep(inputId, outputId);\n",
              "  const outputElement = document.getElementById(outputId);\n",
              "  // Cache steps on the outputElement to make it available for the next call\n",
              "  // to uploadFilesContinue from Python.\n",
              "  outputElement.steps = steps;\n",
              "\n",
              "  return _uploadFilesContinue(outputId);\n",
              "}\n",
              "\n",
              "// This is roughly an async generator (not supported in the browser yet),\n",
              "// where there are multiple asynchronous steps and the Python side is going\n",
              "// to poll for completion of each step.\n",
              "// This uses a Promise to block the python side on completion of each step,\n",
              "// then passes the result of the previous step as the input to the next step.\n",
              "function _uploadFilesContinue(outputId) {\n",
              "  const outputElement = document.getElementById(outputId);\n",
              "  const steps = outputElement.steps;\n",
              "\n",
              "  const next = steps.next(outputElement.lastPromiseValue);\n",
              "  return Promise.resolve(next.value.promise).then((value) => {\n",
              "    // Cache the last promise value to make it available to the next\n",
              "    // step of the generator.\n",
              "    outputElement.lastPromiseValue = value;\n",
              "    return next.value.response;\n",
              "  });\n",
              "}\n",
              "\n",
              "/**\n",
              " * Generator function which is called between each async step of the upload\n",
              " * process.\n",
              " * @param {string} inputId Element ID of the input file picker element.\n",
              " * @param {string} outputId Element ID of the output display.\n",
              " * @return {!Iterable<!Object>} Iterable of next steps.\n",
              " */\n",
              "function* uploadFilesStep(inputId, outputId) {\n",
              "  const inputElement = document.getElementById(inputId);\n",
              "  inputElement.disabled = false;\n",
              "\n",
              "  const outputElement = document.getElementById(outputId);\n",
              "  outputElement.innerHTML = '';\n",
              "\n",
              "  const pickedPromise = new Promise((resolve) => {\n",
              "    inputElement.addEventListener('change', (e) => {\n",
              "      resolve(e.target.files);\n",
              "    });\n",
              "  });\n",
              "\n",
              "  const cancel = document.createElement('button');\n",
              "  inputElement.parentElement.appendChild(cancel);\n",
              "  cancel.textContent = 'Cancel upload';\n",
              "  const cancelPromise = new Promise((resolve) => {\n",
              "    cancel.onclick = () => {\n",
              "      resolve(null);\n",
              "    };\n",
              "  });\n",
              "\n",
              "  // Wait for the user to pick the files.\n",
              "  const files = yield {\n",
              "    promise: Promise.race([pickedPromise, cancelPromise]),\n",
              "    response: {\n",
              "      action: 'starting',\n",
              "    }\n",
              "  };\n",
              "\n",
              "  cancel.remove();\n",
              "\n",
              "  // Disable the input element since further picks are not allowed.\n",
              "  inputElement.disabled = true;\n",
              "\n",
              "  if (!files) {\n",
              "    return {\n",
              "      response: {\n",
              "        action: 'complete',\n",
              "      }\n",
              "    };\n",
              "  }\n",
              "\n",
              "  for (const file of files) {\n",
              "    const li = document.createElement('li');\n",
              "    li.append(span(file.name, {fontWeight: 'bold'}));\n",
              "    li.append(span(\n",
              "        `(${file.type || 'n/a'}) - ${file.size} bytes, ` +\n",
              "        `last modified: ${\n",
              "            file.lastModifiedDate ? file.lastModifiedDate.toLocaleDateString() :\n",
              "                                    'n/a'} - `));\n",
              "    const percent = span('0% done');\n",
              "    li.appendChild(percent);\n",
              "\n",
              "    outputElement.appendChild(li);\n",
              "\n",
              "    const fileDataPromise = new Promise((resolve) => {\n",
              "      const reader = new FileReader();\n",
              "      reader.onload = (e) => {\n",
              "        resolve(e.target.result);\n",
              "      };\n",
              "      reader.readAsArrayBuffer(file);\n",
              "    });\n",
              "    // Wait for the data to be ready.\n",
              "    let fileData = yield {\n",
              "      promise: fileDataPromise,\n",
              "      response: {\n",
              "        action: 'continue',\n",
              "      }\n",
              "    };\n",
              "\n",
              "    // Use a chunked sending to avoid message size limits. See b/62115660.\n",
              "    let position = 0;\n",
              "    do {\n",
              "      const length = Math.min(fileData.byteLength - position, MAX_PAYLOAD_SIZE);\n",
              "      const chunk = new Uint8Array(fileData, position, length);\n",
              "      position += length;\n",
              "\n",
              "      const base64 = btoa(String.fromCharCode.apply(null, chunk));\n",
              "      yield {\n",
              "        response: {\n",
              "          action: 'append',\n",
              "          file: file.name,\n",
              "          data: base64,\n",
              "        },\n",
              "      };\n",
              "\n",
              "      let percentDone = fileData.byteLength === 0 ?\n",
              "          100 :\n",
              "          Math.round((position / fileData.byteLength) * 100);\n",
              "      percent.textContent = `${percentDone}% done`;\n",
              "\n",
              "    } while (position < fileData.byteLength);\n",
              "  }\n",
              "\n",
              "  // All done.\n",
              "  yield {\n",
              "    response: {\n",
              "      action: 'complete',\n",
              "    }\n",
              "  };\n",
              "}\n",
              "\n",
              "scope.google = scope.google || {};\n",
              "scope.google.colab = scope.google.colab || {};\n",
              "scope.google.colab._files = {\n",
              "  _uploadFiles,\n",
              "  _uploadFilesContinue,\n",
              "};\n",
              "})(self);\n",
              "</script> "
            ]
          },
          "metadata": {}
        },
        {
          "output_type": "stream",
          "name": "stdout",
          "text": [
            "Saving heart.csv to heart (2).csv\n"
          ]
        }
      ],
      "source": [
        "from google.colab import files\n",
        "uploaded = files.upload()\n",
        "import pandas as pd\n",
        "import torch\n",
        "import torch.nn as nn\n",
        "import torch.nn.functional as F\n",
        "from sklearn.model_selection import train_test_split\n",
        "\n"
      ]
    },
    {
      "cell_type": "code",
      "source": [
        "\n",
        "df = pd.read_csv('heart.csv')\n",
        "getter = df['output']\n",
        "df = df.drop(columns=['output'])\n",
        "print(df.head())\n",
        "print('output check')\n",
        "print(getter.head())\n",
        "\n"
      ],
      "metadata": {
        "colab": {
          "base_uri": "https://localhost:8080/"
        },
        "id": "L728UqK-UIGg",
        "outputId": "3da28b97-5b2d-4cdf-ba03-d5c275f7cc2b"
      },
      "execution_count": null,
      "outputs": [
        {
          "output_type": "stream",
          "name": "stdout",
          "text": [
            "   age  sex  cp  trtbps  chol  fbs  restecg  thalachh  exng  oldpeak  slp  \\\n",
            "0   63    1   3     145   233    1        0       150     0      2.3    0   \n",
            "1   37    1   2     130   250    0        1       187     0      3.5    0   \n",
            "2   41    0   1     130   204    0        0       172     0      1.4    2   \n",
            "3   56    1   1     120   236    0        1       178     0      0.8    2   \n",
            "4   57    0   0     120   354    0        1       163     1      0.6    2   \n",
            "\n",
            "   caa  thall  \n",
            "0    0      1  \n",
            "1    0      2  \n",
            "2    0      2  \n",
            "3    0      2  \n",
            "4    0      2  \n",
            "output check\n",
            "0    1\n",
            "1    1\n",
            "2    1\n",
            "3    1\n",
            "4    1\n",
            "Name: output, dtype: int64\n"
          ]
        }
      ]
    },
    {
      "cell_type": "markdown",
      "source": [
        "Check to make sure DataFile Heart.csv works well i.e Has all data besides output"
      ],
      "metadata": {
        "id": "SC_iWVZyUX0O"
      }
    },
    {
      "cell_type": "code",
      "source": [
        "class Model(nn.Module):\n",
        "  def __init__(self, inputs = 13, hiddenlayer1 = 64, hiddenlayer2 = 32, hiddenlayer3 = 16, outputs = 2):\n",
        "    super().__init__()\n",
        "    self.fc1 = nn.Linear(inputs, hiddenlayer1)\n",
        "    self.fc2 = nn.Linear(hiddenlayer1, hiddenlayer2)\n",
        "    self.fc3 = nn.Linear(hiddenlayer2, hiddenlayer3)\n",
        "    #self.fc4 = nn.Linear(hiddenlayer3, hiddenlayer4)\n",
        "    self.output = nn.Linear(hiddenlayer3, outputs)\n",
        "    self.dropout = nn.Dropout(0.2)\n",
        "\n",
        "\n",
        "\n",
        "  def forwardfeed(self, x):\n",
        "\n",
        "    x = F.relu(self.fc1(x))\n",
        "\n",
        "    x = self.dropout(x)\n",
        "    x = F.relu(self.fc2(x))\n",
        "\n",
        "    x = self.dropout(x)\n",
        "    x = F.relu(self.fc3(x))\n",
        "\n",
        "    x = self.dropout(x)\n",
        "    #x = F.relu(self.fc4(x))\n",
        "    x = self.output(x)\n",
        "    return x\n",
        "\n",
        "torch.manual_seed(1)\n",
        "myModel = Model()\n",
        "\n",
        "input = df.values\n",
        "output = getter.values\n",
        "\n",
        "\n",
        "input_train, input_test, output_train, output_test = train_test_split(input, output, test_size=0.1, random_state=1)\n",
        "\n",
        "input_train = torch.FloatTensor(input_train)\n",
        "input_test = torch.FloatTensor(input_test)\n",
        "\n",
        "output_train = torch.LongTensor(output_train)\n",
        "output_test = torch.LongTensor(output_test)\n",
        "\n",
        "\n",
        "\n",
        "\n",
        "error = nn.CrossEntropyLoss()\n",
        "optimization = torch.optim.Adam(myModel.parameters(), lr=1e-3, weight_decay=1e-4)\n",
        "\n",
        "\n",
        "#optimization = torch.optim.SGD(myModel.parameters(), lr=0.001, momentum=0.9, weight_decay=1e-4)\n",
        "\n",
        "\n",
        "\n"
      ],
      "metadata": {
        "id": "L7IpcZTnVYbf"
      },
      "execution_count": null,
      "outputs": []
    },
    {
      "cell_type": "code",
      "source": [
        "\n",
        "epochs = 1000\n",
        "losses = []\n",
        "for i in range(epochs):\n",
        "        i = i+1\n",
        "        y_pred = myModel.forwardfeed(input_train)\n",
        "        loss = error(y_pred, output_train)\n",
        "        losses.append(loss)\n",
        "\n",
        "        if i % 200 == 0:\n",
        "            print(f'epoch: {i} loss: {loss}')\n",
        "        optimization.zero_grad()\n",
        "        loss.backward()\n",
        "        optimization.step()\n",
        "\n",
        "        #torch.nn.utils.clip_grad_norm_(myModel.parameters(), max_norm=1.0)\n"
      ],
      "metadata": {
        "colab": {
          "base_uri": "https://localhost:8080/"
        },
        "id": "h3R3iSi2bWph",
        "outputId": "75d37a6f-f810-428b-85a5-3b23f12a7ca6"
      },
      "execution_count": null,
      "outputs": [
        {
          "output_type": "stream",
          "name": "stdout",
          "text": [
            "epoch: 200 loss: 0.46735888719558716\n",
            "epoch: 400 loss: 0.4685838520526886\n",
            "epoch: 600 loss: 0.3891963064670563\n",
            "epoch: 800 loss: 0.31981417536735535\n",
            "epoch: 1000 loss: 0.30973270535469055\n"
          ]
        }
      ]
    },
    {
      "cell_type": "code",
      "source": [
        "with torch.no_grad():\n",
        "    y_eval = myModel.forwardfeed(input_test)\n",
        "    loss = error(y_eval, output_test)\n",
        "    print(loss)"
      ],
      "metadata": {
        "id": "OcE2Hr9TWrd5",
        "colab": {
          "base_uri": "https://localhost:8080/"
        },
        "outputId": "b3a7124e-ec75-485f-906f-77350ebaf491"
      },
      "execution_count": null,
      "outputs": [
        {
          "output_type": "stream",
          "name": "stdout",
          "text": [
            "tensor(0.3319)\n"
          ]
        }
      ]
    },
    {
      "cell_type": "code",
      "source": [
        "correct = 0;\n",
        "total = 0;\n",
        "\n",
        "with torch.no_grad():\n",
        "\n",
        "   for i, data in enumerate(input_test):\n",
        "       total += 1\n",
        "       y_val = myModel.forwardfeed(data)\n",
        "\n",
        "       s = '';\n",
        "       if output_test[i] == 1:\n",
        "           s = '1'\n",
        "       else:\n",
        "           s = '0'\n",
        "\n",
        "       if y_val.argmax().item() == output_test[i]:\n",
        "           correct += 1\n",
        "\n",
        "       print(f'{y_val.argmax().item()}, {s}')\n",
        "\n",
        "print((correct/total)*100)"
      ],
      "metadata": {
        "colab": {
          "base_uri": "https://localhost:8080/"
        },
        "id": "2fdg3aMJ5h6b",
        "outputId": "e8b25517-af9a-42ac-9809-f236d0518bc7"
      },
      "execution_count": null,
      "outputs": [
        {
          "output_type": "stream",
          "name": "stdout",
          "text": [
            "0, 0\n",
            "1, 1\n",
            "0, 0\n",
            "0, 0\n",
            "0, 0\n",
            "0, 0\n",
            "1, 0\n",
            "1, 1\n",
            "0, 0\n",
            "1, 1\n",
            "1, 1\n",
            "0, 0\n",
            "1, 0\n",
            "1, 0\n",
            "0, 0\n",
            "1, 0\n",
            "1, 1\n",
            "0, 0\n",
            "1, 1\n",
            "1, 0\n",
            "1, 1\n",
            "0, 0\n",
            "1, 1\n",
            "1, 1\n",
            "1, 1\n",
            "1, 1\n",
            "0, 0\n",
            "1, 1\n",
            "1, 1\n",
            "1, 1\n",
            "1, 1\n",
            "83.87096774193549\n"
          ]
        }
      ]
    }
  ]
}